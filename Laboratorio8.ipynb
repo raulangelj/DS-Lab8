{
  "nbformat": 4,
  "nbformat_minor": 0,
  "metadata": {
    "colab": {
      "provenance": [],
      "authorship_tag": "ABX9TyMgbTZN8rdJjxIt0Mmm9w3u",
      "include_colab_link": true
    },
    "kernelspec": {
      "name": "python3",
      "display_name": "Python 3"
    },
    "language_info": {
      "name": "python"
    }
  },
  "cells": [
    {
      "cell_type": "markdown",
      "metadata": {
        "id": "view-in-github",
        "colab_type": "text"
      },
      "source": [
        "<a href=\"https://colab.research.google.com/github/raulangelj/DS-Lab8/blob/main/Laboratorio8.ipynb\" target=\"_parent\"><img src=\"https://colab.research.google.com/assets/colab-badge.svg\" alt=\"Open In Colab\"/></a>"
      ]
    },
    {
      "cell_type": "markdown",
      "source": [
        "Laboratorio 8\n",
        "\n",
        "Integrantes:\n",
        "Bryann Alfaro 19372\n",
        "Raul Jimenez 19017\n",
        "Donaldo Garcia 19683"
      ],
      "metadata": {
        "id": "cWNKcr1zaibp"
      }
    },
    {
      "cell_type": "code",
      "execution_count": 45,
      "metadata": {
        "id": "6mt8mHWFM6jf"
      },
      "outputs": [],
      "source": [
        "import numpy as np\n",
        "import matplotlib.pyplot as plt\n",
        "import pandas as pd\n",
        "import datetime\n"
      ]
    },
    {
      "cell_type": "code",
      "source": [
        "confirmed = pd.read_csv(\"confirmed.csv\")\n",
        "deaths = pd.read_csv(\"deaths.csv\")\n",
        "recovered = pd.read_csv(\"recovered.csv\")"
      ],
      "metadata": {
        "id": "HwkzpkLOOxyV"
      },
      "execution_count": 46,
      "outputs": []
    },
    {
      "cell_type": "markdown",
      "source": [
        "Colocar formato standard a columnas"
      ],
      "metadata": {
        "id": "EPGlxOM-QIqA"
      }
    },
    {
      "cell_type": "code",
      "source": [
        "confirmed = confirmed.rename(columns={\"Province/State\":\"provincia\", \"Country/Region\":\"pais\", \"Lat\":\"latitud\", \"Long\":\"longitud\"})\n",
        "deaths = deaths.rename(columns={\"Province/State\":\"provincia\", \"Country/Region\":\"pais\", \"Lat\":\"latitud\", \"Long\":\"longitud\"})\n",
        "recovered = recovered.rename(columns={\"Province/State\":\"provincia\", \"Country/Region\":\"pais\", \"Lat\":\"latitud\", \"Long\":\"longitud\"})\n"
      ],
      "metadata": {
        "id": "OD_F4LpPPznO"
      },
      "execution_count": 47,
      "outputs": []
    },
    {
      "cell_type": "markdown",
      "source": [
        "Dando formato Tidy"
      ],
      "metadata": {
        "id": "dphQ3fpURF1W"
      }
    },
    {
      "cell_type": "code",
      "source": [
        "confirmed = confirmed.melt(id_vars=[\"provincia\",\"pais\",\"latitud\",\"longitud\"], var_name=\"date_info\", value_name=\"confirmed\")\n",
        "deaths = deaths.melt(id_vars=[\"provincia\",\"pais\",\"latitud\",\"longitud\"], var_name=\"date_info\", value_name=\"deaths\")\n",
        "recovered = recovered.melt(id_vars=[\"provincia\",\"pais\",\"latitud\",\"longitud\"], var_name=\"date_info\", value_name=\"recovered\")\n"
      ],
      "metadata": {
        "id": "NHuohc53QPw2"
      },
      "execution_count": 48,
      "outputs": []
    },
    {
      "cell_type": "markdown",
      "source": [
        "Colocar formato Datetime en fechas"
      ],
      "metadata": {
        "id": "pK8ImqW0ThDk"
      }
    },
    {
      "cell_type": "code",
      "source": [
        "confirmed = confirmed.assign(fecha = pd.to_datetime(confirmed[\"date_info\"], format=\"%m/%d/%y\"))\n",
        "confirmed.drop(columns=[\"date_info\"], inplace=True)\n",
        "\n",
        "deaths = deaths.assign(fecha = pd.to_datetime(deaths[\"date_info\"], format=\"%m/%d/%y\"))\n",
        "deaths.drop(columns=[\"date_info\"], inplace=True)\n",
        "\n",
        "recovered = recovered.assign(fecha = pd.to_datetime(recovered[\"date_info\"], format=\"%m/%d/%y\"))\n",
        "recovered.drop(columns=[\"date_info\"], inplace=True)\n",
        "\n"
      ],
      "metadata": {
        "id": "NaVhiKezSd3s"
      },
      "execution_count": 49,
      "outputs": []
    },
    {
      "cell_type": "markdown",
      "source": [
        "Reordenar los datos"
      ],
      "metadata": {
        "id": "rF4qXpQ7WKNO"
      }
    },
    {
      "cell_type": "code",
      "source": [
        "confirmed = confirmed.filter([\"pais\", \"fecha\", \"provincia\", \"latitud\", \"longitud\",\"confirmed\"]).sort_values([\"pais\", \"fecha\"]).reset_index(drop=True)\n",
        "deaths = deaths.filter([\"pais\", \"fecha\", \"provincia\", \"latitud\", \"longitud\",\"deaths\"]).sort_values([\"pais\", \"fecha\"]).reset_index(drop=True)\n",
        "recovered = recovered.filter([\"pais\", \"fecha\", \"provincia\", \"latitud\", \"longitud\", \"recovered\"]).sort_values([\"pais\", \"fecha\"]).reset_index(drop=True)\n"
      ],
      "metadata": {
        "id": "40uVkwwxU8zT"
      },
      "execution_count": 50,
      "outputs": []
    },
    {
      "cell_type": "markdown",
      "source": [
        "Merge"
      ],
      "metadata": {
        "id": "az8cEefXXupi"
      }
    },
    {
      "cell_type": "code",
      "source": [
        "#Eliminar columnas de latitud y longitud en deaths y recovered para que no esten duplicadas en el dataframe final\n",
        "deaths.drop(columns=[\"latitud\",\"longitud\"], inplace=True)\n",
        "recovered.drop(columns=[\"latitud\",\"longitud\"], inplace=True)\n"
      ],
      "metadata": {
        "id": "2SAkYxOhW7lj"
      },
      "execution_count": 51,
      "outputs": []
    },
    {
      "cell_type": "code",
      "source": [
        "#Realizando el merge\n",
        "\n",
        "df_covid = (confirmed.merge(deaths, on=[\"pais\",\"fecha\",\"provincia\"], how=\"left\").merge(recovered, on=[\"pais\",\"fecha\",\"provincia\"], how=\"left\"))\n",
        "df_covid.head()"
      ],
      "metadata": {
        "colab": {
          "base_uri": "https://localhost:8080/",
          "height": 206
        },
        "id": "Xz-PJuTeYNRj",
        "outputId": "6f8d2bf5-7d41-4d36-9789-b6377cca353e"
      },
      "execution_count": 52,
      "outputs": [
        {
          "output_type": "execute_result",
          "data": {
            "text/plain": [
              "          pais      fecha provincia   latitud   longitud  confirmed  deaths  \\\n",
              "0  Afghanistan 2020-01-22       NaN  33.93911  67.709953          0       0   \n",
              "1  Afghanistan 2020-01-23       NaN  33.93911  67.709953          0       0   \n",
              "2  Afghanistan 2020-01-24       NaN  33.93911  67.709953          0       0   \n",
              "3  Afghanistan 2020-01-25       NaN  33.93911  67.709953          0       0   \n",
              "4  Afghanistan 2020-01-26       NaN  33.93911  67.709953          0       0   \n",
              "\n",
              "   recovered  \n",
              "0        0.0  \n",
              "1        0.0  \n",
              "2        0.0  \n",
              "3        0.0  \n",
              "4        0.0  "
            ],
            "text/html": [
              "\n",
              "  <div id=\"df-b4232247-c06b-4835-8f66-c3b7712181ba\">\n",
              "    <div class=\"colab-df-container\">\n",
              "      <div>\n",
              "<style scoped>\n",
              "    .dataframe tbody tr th:only-of-type {\n",
              "        vertical-align: middle;\n",
              "    }\n",
              "\n",
              "    .dataframe tbody tr th {\n",
              "        vertical-align: top;\n",
              "    }\n",
              "\n",
              "    .dataframe thead th {\n",
              "        text-align: right;\n",
              "    }\n",
              "</style>\n",
              "<table border=\"1\" class=\"dataframe\">\n",
              "  <thead>\n",
              "    <tr style=\"text-align: right;\">\n",
              "      <th></th>\n",
              "      <th>pais</th>\n",
              "      <th>fecha</th>\n",
              "      <th>provincia</th>\n",
              "      <th>latitud</th>\n",
              "      <th>longitud</th>\n",
              "      <th>confirmed</th>\n",
              "      <th>deaths</th>\n",
              "      <th>recovered</th>\n",
              "    </tr>\n",
              "  </thead>\n",
              "  <tbody>\n",
              "    <tr>\n",
              "      <th>0</th>\n",
              "      <td>Afghanistan</td>\n",
              "      <td>2020-01-22</td>\n",
              "      <td>NaN</td>\n",
              "      <td>33.93911</td>\n",
              "      <td>67.709953</td>\n",
              "      <td>0</td>\n",
              "      <td>0</td>\n",
              "      <td>0.0</td>\n",
              "    </tr>\n",
              "    <tr>\n",
              "      <th>1</th>\n",
              "      <td>Afghanistan</td>\n",
              "      <td>2020-01-23</td>\n",
              "      <td>NaN</td>\n",
              "      <td>33.93911</td>\n",
              "      <td>67.709953</td>\n",
              "      <td>0</td>\n",
              "      <td>0</td>\n",
              "      <td>0.0</td>\n",
              "    </tr>\n",
              "    <tr>\n",
              "      <th>2</th>\n",
              "      <td>Afghanistan</td>\n",
              "      <td>2020-01-24</td>\n",
              "      <td>NaN</td>\n",
              "      <td>33.93911</td>\n",
              "      <td>67.709953</td>\n",
              "      <td>0</td>\n",
              "      <td>0</td>\n",
              "      <td>0.0</td>\n",
              "    </tr>\n",
              "    <tr>\n",
              "      <th>3</th>\n",
              "      <td>Afghanistan</td>\n",
              "      <td>2020-01-25</td>\n",
              "      <td>NaN</td>\n",
              "      <td>33.93911</td>\n",
              "      <td>67.709953</td>\n",
              "      <td>0</td>\n",
              "      <td>0</td>\n",
              "      <td>0.0</td>\n",
              "    </tr>\n",
              "    <tr>\n",
              "      <th>4</th>\n",
              "      <td>Afghanistan</td>\n",
              "      <td>2020-01-26</td>\n",
              "      <td>NaN</td>\n",
              "      <td>33.93911</td>\n",
              "      <td>67.709953</td>\n",
              "      <td>0</td>\n",
              "      <td>0</td>\n",
              "      <td>0.0</td>\n",
              "    </tr>\n",
              "  </tbody>\n",
              "</table>\n",
              "</div>\n",
              "      <button class=\"colab-df-convert\" onclick=\"convertToInteractive('df-b4232247-c06b-4835-8f66-c3b7712181ba')\"\n",
              "              title=\"Convert this dataframe to an interactive table.\"\n",
              "              style=\"display:none;\">\n",
              "        \n",
              "  <svg xmlns=\"http://www.w3.org/2000/svg\" height=\"24px\"viewBox=\"0 0 24 24\"\n",
              "       width=\"24px\">\n",
              "    <path d=\"M0 0h24v24H0V0z\" fill=\"none\"/>\n",
              "    <path d=\"M18.56 5.44l.94 2.06.94-2.06 2.06-.94-2.06-.94-.94-2.06-.94 2.06-2.06.94zm-11 1L8.5 8.5l.94-2.06 2.06-.94-2.06-.94L8.5 2.5l-.94 2.06-2.06.94zm10 10l.94 2.06.94-2.06 2.06-.94-2.06-.94-.94-2.06-.94 2.06-2.06.94z\"/><path d=\"M17.41 7.96l-1.37-1.37c-.4-.4-.92-.59-1.43-.59-.52 0-1.04.2-1.43.59L10.3 9.45l-7.72 7.72c-.78.78-.78 2.05 0 2.83L4 21.41c.39.39.9.59 1.41.59.51 0 1.02-.2 1.41-.59l7.78-7.78 2.81-2.81c.8-.78.8-2.07 0-2.86zM5.41 20L4 18.59l7.72-7.72 1.47 1.35L5.41 20z\"/>\n",
              "  </svg>\n",
              "      </button>\n",
              "      \n",
              "  <style>\n",
              "    .colab-df-container {\n",
              "      display:flex;\n",
              "      flex-wrap:wrap;\n",
              "      gap: 12px;\n",
              "    }\n",
              "\n",
              "    .colab-df-convert {\n",
              "      background-color: #E8F0FE;\n",
              "      border: none;\n",
              "      border-radius: 50%;\n",
              "      cursor: pointer;\n",
              "      display: none;\n",
              "      fill: #1967D2;\n",
              "      height: 32px;\n",
              "      padding: 0 0 0 0;\n",
              "      width: 32px;\n",
              "    }\n",
              "\n",
              "    .colab-df-convert:hover {\n",
              "      background-color: #E2EBFA;\n",
              "      box-shadow: 0px 1px 2px rgba(60, 64, 67, 0.3), 0px 1px 3px 1px rgba(60, 64, 67, 0.15);\n",
              "      fill: #174EA6;\n",
              "    }\n",
              "\n",
              "    [theme=dark] .colab-df-convert {\n",
              "      background-color: #3B4455;\n",
              "      fill: #D2E3FC;\n",
              "    }\n",
              "\n",
              "    [theme=dark] .colab-df-convert:hover {\n",
              "      background-color: #434B5C;\n",
              "      box-shadow: 0px 1px 3px 1px rgba(0, 0, 0, 0.15);\n",
              "      filter: drop-shadow(0px 1px 2px rgba(0, 0, 0, 0.3));\n",
              "      fill: #FFFFFF;\n",
              "    }\n",
              "  </style>\n",
              "\n",
              "      <script>\n",
              "        const buttonEl =\n",
              "          document.querySelector('#df-b4232247-c06b-4835-8f66-c3b7712181ba button.colab-df-convert');\n",
              "        buttonEl.style.display =\n",
              "          google.colab.kernel.accessAllowed ? 'block' : 'none';\n",
              "\n",
              "        async function convertToInteractive(key) {\n",
              "          const element = document.querySelector('#df-b4232247-c06b-4835-8f66-c3b7712181ba');\n",
              "          const dataTable =\n",
              "            await google.colab.kernel.invokeFunction('convertToInteractive',\n",
              "                                                     [key], {});\n",
              "          if (!dataTable) return;\n",
              "\n",
              "          const docLinkHtml = 'Like what you see? Visit the ' +\n",
              "            '<a target=\"_blank\" href=https://colab.research.google.com/notebooks/data_table.ipynb>data table notebook</a>'\n",
              "            + ' to learn more about interactive tables.';\n",
              "          element.innerHTML = '';\n",
              "          dataTable['output_type'] = 'display_data';\n",
              "          await google.colab.output.renderOutput(dataTable, element);\n",
              "          const docLink = document.createElement('div');\n",
              "          docLink.innerHTML = docLinkHtml;\n",
              "          element.appendChild(docLink);\n",
              "        }\n",
              "      </script>\n",
              "    </div>\n",
              "  </div>\n",
              "  "
            ]
          },
          "metadata": {},
          "execution_count": 52
        }
      ]
    },
    {
      "cell_type": "code",
      "source": [
        "df_covid.tail()"
      ],
      "metadata": {
        "colab": {
          "base_uri": "https://localhost:8080/",
          "height": 206
        },
        "id": "h9OKqv5MaWzx",
        "outputId": "9b830c52-cb37-4fc6-f2fa-24c2ba7ad11e"
      },
      "execution_count": 54,
      "outputs": [
        {
          "output_type": "execute_result",
          "data": {
            "text/plain": [
              "            pais      fecha provincia    latitud   longitud  confirmed  \\\n",
              "286683  Zimbabwe 2022-10-05       NaN -19.015438  29.154857     257568   \n",
              "286684  Zimbabwe 2022-10-06       NaN -19.015438  29.154857     257655   \n",
              "286685  Zimbabwe 2022-10-07       NaN -19.015438  29.154857     257655   \n",
              "286686  Zimbabwe 2022-10-08       NaN -19.015438  29.154857     257655   \n",
              "286687  Zimbabwe 2022-10-09       NaN -19.015438  29.154857     257655   \n",
              "\n",
              "        deaths  recovered  \n",
              "286683    5603        0.0  \n",
              "286684    5604        0.0  \n",
              "286685    5604        0.0  \n",
              "286686    5604        0.0  \n",
              "286687    5604        0.0  "
            ],
            "text/html": [
              "\n",
              "  <div id=\"df-3cfd2ec5-858f-4acf-8d09-49f4a71a83dd\">\n",
              "    <div class=\"colab-df-container\">\n",
              "      <div>\n",
              "<style scoped>\n",
              "    .dataframe tbody tr th:only-of-type {\n",
              "        vertical-align: middle;\n",
              "    }\n",
              "\n",
              "    .dataframe tbody tr th {\n",
              "        vertical-align: top;\n",
              "    }\n",
              "\n",
              "    .dataframe thead th {\n",
              "        text-align: right;\n",
              "    }\n",
              "</style>\n",
              "<table border=\"1\" class=\"dataframe\">\n",
              "  <thead>\n",
              "    <tr style=\"text-align: right;\">\n",
              "      <th></th>\n",
              "      <th>pais</th>\n",
              "      <th>fecha</th>\n",
              "      <th>provincia</th>\n",
              "      <th>latitud</th>\n",
              "      <th>longitud</th>\n",
              "      <th>confirmed</th>\n",
              "      <th>deaths</th>\n",
              "      <th>recovered</th>\n",
              "    </tr>\n",
              "  </thead>\n",
              "  <tbody>\n",
              "    <tr>\n",
              "      <th>286683</th>\n",
              "      <td>Zimbabwe</td>\n",
              "      <td>2022-10-05</td>\n",
              "      <td>NaN</td>\n",
              "      <td>-19.015438</td>\n",
              "      <td>29.154857</td>\n",
              "      <td>257568</td>\n",
              "      <td>5603</td>\n",
              "      <td>0.0</td>\n",
              "    </tr>\n",
              "    <tr>\n",
              "      <th>286684</th>\n",
              "      <td>Zimbabwe</td>\n",
              "      <td>2022-10-06</td>\n",
              "      <td>NaN</td>\n",
              "      <td>-19.015438</td>\n",
              "      <td>29.154857</td>\n",
              "      <td>257655</td>\n",
              "      <td>5604</td>\n",
              "      <td>0.0</td>\n",
              "    </tr>\n",
              "    <tr>\n",
              "      <th>286685</th>\n",
              "      <td>Zimbabwe</td>\n",
              "      <td>2022-10-07</td>\n",
              "      <td>NaN</td>\n",
              "      <td>-19.015438</td>\n",
              "      <td>29.154857</td>\n",
              "      <td>257655</td>\n",
              "      <td>5604</td>\n",
              "      <td>0.0</td>\n",
              "    </tr>\n",
              "    <tr>\n",
              "      <th>286686</th>\n",
              "      <td>Zimbabwe</td>\n",
              "      <td>2022-10-08</td>\n",
              "      <td>NaN</td>\n",
              "      <td>-19.015438</td>\n",
              "      <td>29.154857</td>\n",
              "      <td>257655</td>\n",
              "      <td>5604</td>\n",
              "      <td>0.0</td>\n",
              "    </tr>\n",
              "    <tr>\n",
              "      <th>286687</th>\n",
              "      <td>Zimbabwe</td>\n",
              "      <td>2022-10-09</td>\n",
              "      <td>NaN</td>\n",
              "      <td>-19.015438</td>\n",
              "      <td>29.154857</td>\n",
              "      <td>257655</td>\n",
              "      <td>5604</td>\n",
              "      <td>0.0</td>\n",
              "    </tr>\n",
              "  </tbody>\n",
              "</table>\n",
              "</div>\n",
              "      <button class=\"colab-df-convert\" onclick=\"convertToInteractive('df-3cfd2ec5-858f-4acf-8d09-49f4a71a83dd')\"\n",
              "              title=\"Convert this dataframe to an interactive table.\"\n",
              "              style=\"display:none;\">\n",
              "        \n",
              "  <svg xmlns=\"http://www.w3.org/2000/svg\" height=\"24px\"viewBox=\"0 0 24 24\"\n",
              "       width=\"24px\">\n",
              "    <path d=\"M0 0h24v24H0V0z\" fill=\"none\"/>\n",
              "    <path d=\"M18.56 5.44l.94 2.06.94-2.06 2.06-.94-2.06-.94-.94-2.06-.94 2.06-2.06.94zm-11 1L8.5 8.5l.94-2.06 2.06-.94-2.06-.94L8.5 2.5l-.94 2.06-2.06.94zm10 10l.94 2.06.94-2.06 2.06-.94-2.06-.94-.94-2.06-.94 2.06-2.06.94z\"/><path d=\"M17.41 7.96l-1.37-1.37c-.4-.4-.92-.59-1.43-.59-.52 0-1.04.2-1.43.59L10.3 9.45l-7.72 7.72c-.78.78-.78 2.05 0 2.83L4 21.41c.39.39.9.59 1.41.59.51 0 1.02-.2 1.41-.59l7.78-7.78 2.81-2.81c.8-.78.8-2.07 0-2.86zM5.41 20L4 18.59l7.72-7.72 1.47 1.35L5.41 20z\"/>\n",
              "  </svg>\n",
              "      </button>\n",
              "      \n",
              "  <style>\n",
              "    .colab-df-container {\n",
              "      display:flex;\n",
              "      flex-wrap:wrap;\n",
              "      gap: 12px;\n",
              "    }\n",
              "\n",
              "    .colab-df-convert {\n",
              "      background-color: #E8F0FE;\n",
              "      border: none;\n",
              "      border-radius: 50%;\n",
              "      cursor: pointer;\n",
              "      display: none;\n",
              "      fill: #1967D2;\n",
              "      height: 32px;\n",
              "      padding: 0 0 0 0;\n",
              "      width: 32px;\n",
              "    }\n",
              "\n",
              "    .colab-df-convert:hover {\n",
              "      background-color: #E2EBFA;\n",
              "      box-shadow: 0px 1px 2px rgba(60, 64, 67, 0.3), 0px 1px 3px 1px rgba(60, 64, 67, 0.15);\n",
              "      fill: #174EA6;\n",
              "    }\n",
              "\n",
              "    [theme=dark] .colab-df-convert {\n",
              "      background-color: #3B4455;\n",
              "      fill: #D2E3FC;\n",
              "    }\n",
              "\n",
              "    [theme=dark] .colab-df-convert:hover {\n",
              "      background-color: #434B5C;\n",
              "      box-shadow: 0px 1px 3px 1px rgba(0, 0, 0, 0.15);\n",
              "      filter: drop-shadow(0px 1px 2px rgba(0, 0, 0, 0.3));\n",
              "      fill: #FFFFFF;\n",
              "    }\n",
              "  </style>\n",
              "\n",
              "      <script>\n",
              "        const buttonEl =\n",
              "          document.querySelector('#df-3cfd2ec5-858f-4acf-8d09-49f4a71a83dd button.colab-df-convert');\n",
              "        buttonEl.style.display =\n",
              "          google.colab.kernel.accessAllowed ? 'block' : 'none';\n",
              "\n",
              "        async function convertToInteractive(key) {\n",
              "          const element = document.querySelector('#df-3cfd2ec5-858f-4acf-8d09-49f4a71a83dd');\n",
              "          const dataTable =\n",
              "            await google.colab.kernel.invokeFunction('convertToInteractive',\n",
              "                                                     [key], {});\n",
              "          if (!dataTable) return;\n",
              "\n",
              "          const docLinkHtml = 'Like what you see? Visit the ' +\n",
              "            '<a target=\"_blank\" href=https://colab.research.google.com/notebooks/data_table.ipynb>data table notebook</a>'\n",
              "            + ' to learn more about interactive tables.';\n",
              "          element.innerHTML = '';\n",
              "          dataTable['output_type'] = 'display_data';\n",
              "          await google.colab.output.renderOutput(dataTable, element);\n",
              "          const docLink = document.createElement('div');\n",
              "          docLink.innerHTML = docLinkHtml;\n",
              "          element.appendChild(docLink);\n",
              "        }\n",
              "      </script>\n",
              "    </div>\n",
              "  </div>\n",
              "  "
            ]
          },
          "metadata": {},
          "execution_count": 54
        }
      ]
    },
    {
      "cell_type": "code",
      "source": [],
      "metadata": {
        "id": "NnuIP40Sady6"
      },
      "execution_count": null,
      "outputs": []
    }
  ]
}